{
 "cells": [
  {
   "cell_type": "code",
   "execution_count": 95,
   "id": "692b563e",
   "metadata": {},
   "outputs": [],
   "source": [
    "import numpy as np\n",
    "import pandas as pd\n",
    "from sklearn.linear_model import LinearRegression\n",
    "from sklearn.linear_model import LogisticRegression\n",
    "from sklearn.metrics import r2_score\n",
    "from sklearn.neighbors import KNeighborsClassifier\n",
    "from sklearn import metrics\n",
    "import sklearn\n",
    "import matplotlib.pyplot as plt\n",
    "%matplotlib inline "
   ]
  },
  {
   "cell_type": "code",
   "execution_count": 96,
   "id": "5d74990e",
   "metadata": {},
   "outputs": [
    {
     "data": {
      "text/html": [
       "<div>\n",
       "<style scoped>\n",
       "    .dataframe tbody tr th:only-of-type {\n",
       "        vertical-align: middle;\n",
       "    }\n",
       "\n",
       "    .dataframe tbody tr th {\n",
       "        vertical-align: top;\n",
       "    }\n",
       "\n",
       "    .dataframe thead th {\n",
       "        text-align: right;\n",
       "    }\n",
       "</style>\n",
       "<table border=\"1\" class=\"dataframe\">\n",
       "  <thead>\n",
       "    <tr style=\"text-align: right;\">\n",
       "      <th></th>\n",
       "      <th>MIP</th>\n",
       "      <th>STDIP</th>\n",
       "      <th>EKIP</th>\n",
       "      <th>SIP</th>\n",
       "      <th>MC</th>\n",
       "      <th>STDC</th>\n",
       "      <th>EKC</th>\n",
       "      <th>SC</th>\n",
       "      <th>TARGET</th>\n",
       "    </tr>\n",
       "  </thead>\n",
       "  <tbody>\n",
       "    <tr>\n",
       "      <th>0</th>\n",
       "      <td>137.218750</td>\n",
       "      <td>45.390655</td>\n",
       "      <td>0.034985</td>\n",
       "      <td>0.134409</td>\n",
       "      <td>3.204013</td>\n",
       "      <td>17.177857</td>\n",
       "      <td>7.494588</td>\n",
       "      <td>74.003104</td>\n",
       "      <td>0</td>\n",
       "    </tr>\n",
       "    <tr>\n",
       "      <th>1</th>\n",
       "      <td>93.773438</td>\n",
       "      <td>41.883062</td>\n",
       "      <td>0.371402</td>\n",
       "      <td>1.291232</td>\n",
       "      <td>1.482441</td>\n",
       "      <td>12.959050</td>\n",
       "      <td>12.242911</td>\n",
       "      <td>180.158844</td>\n",
       "      <td>0</td>\n",
       "    </tr>\n",
       "    <tr>\n",
       "      <th>2</th>\n",
       "      <td>73.632812</td>\n",
       "      <td>35.461218</td>\n",
       "      <td>1.153607</td>\n",
       "      <td>4.161082</td>\n",
       "      <td>2.099498</td>\n",
       "      <td>13.057474</td>\n",
       "      <td>10.013591</td>\n",
       "      <td>140.894151</td>\n",
       "      <td>0</td>\n",
       "    </tr>\n",
       "    <tr>\n",
       "      <th>3</th>\n",
       "      <td>93.429688</td>\n",
       "      <td>39.883166</td>\n",
       "      <td>0.602060</td>\n",
       "      <td>1.518548</td>\n",
       "      <td>2.475753</td>\n",
       "      <td>14.146578</td>\n",
       "      <td>8.770640</td>\n",
       "      <td>107.970173</td>\n",
       "      <td>0</td>\n",
       "    </tr>\n",
       "    <tr>\n",
       "      <th>4</th>\n",
       "      <td>131.625000</td>\n",
       "      <td>44.111896</td>\n",
       "      <td>0.108905</td>\n",
       "      <td>0.239879</td>\n",
       "      <td>33.888796</td>\n",
       "      <td>70.398342</td>\n",
       "      <td>1.689460</td>\n",
       "      <td>1.031847</td>\n",
       "      <td>0</td>\n",
       "    </tr>\n",
       "  </tbody>\n",
       "</table>\n",
       "</div>"
      ],
      "text/plain": [
       "          MIP      STDIP      EKIP       SIP         MC       STDC        EKC  \\\n",
       "0  137.218750  45.390655  0.034985  0.134409   3.204013  17.177857   7.494588   \n",
       "1   93.773438  41.883062  0.371402  1.291232   1.482441  12.959050  12.242911   \n",
       "2   73.632812  35.461218  1.153607  4.161082   2.099498  13.057474  10.013591   \n",
       "3   93.429688  39.883166  0.602060  1.518548   2.475753  14.146578   8.770640   \n",
       "4  131.625000  44.111896  0.108905  0.239879  33.888796  70.398342   1.689460   \n",
       "\n",
       "           SC  TARGET  \n",
       "0   74.003104       0  \n",
       "1  180.158844       0  \n",
       "2  140.894151       0  \n",
       "3  107.970173       0  \n",
       "4    1.031847       0  "
      ]
     },
     "execution_count": 96,
     "metadata": {},
     "output_type": "execute_result"
    }
   ],
   "source": [
    "data = pd.read_csv(\"data.csv\",delimiter=',')\n",
    "data.head()\n"
   ]
  },
  {
   "cell_type": "code",
   "execution_count": 97,
   "id": "2d2bd6c5",
   "metadata": {},
   "outputs": [],
   "source": [
    "#Нормализуем данные и раделим на тренировочный, валидационный и тестовый наборы в соотношении 60:20:20\n",
    "for i in ['MIP', 'STDIP', 'EKIP', 'SIP', 'MC', 'STDC', 'EKC', 'SC']:\n",
    "    data[i] = (data[i] - data[i].min())/(data[i].max() - data[i].min())\n",
    "train= data.head(int(len(data)*0.6))\n",
    "valid=data.iloc[10738:14319]\n",
    "test=data.tail(int(len(data)*0.2))\n",
    "#Запишем значения в файлы\n",
    "train.to_csv(\"train.csv\")\n",
    "valid.to_csv(\"valid.csv\")\n",
    "test.to_csv(\"test.csv\")\n"
   ]
  },
  {
   "cell_type": "code",
   "execution_count": 98,
   "id": "0de7fd52",
   "metadata": {},
   "outputs": [
    {
     "data": {
      "text/html": [
       "<div>\n",
       "<style scoped>\n",
       "    .dataframe tbody tr th:only-of-type {\n",
       "        vertical-align: middle;\n",
       "    }\n",
       "\n",
       "    .dataframe tbody tr th {\n",
       "        vertical-align: top;\n",
       "    }\n",
       "\n",
       "    .dataframe thead th {\n",
       "        text-align: right;\n",
       "    }\n",
       "</style>\n",
       "<table border=\"1\" class=\"dataframe\">\n",
       "  <thead>\n",
       "    <tr style=\"text-align: right;\">\n",
       "      <th></th>\n",
       "      <th>MIP</th>\n",
       "      <th>STDIP</th>\n",
       "      <th>EKIP</th>\n",
       "      <th>SIP</th>\n",
       "      <th>MC</th>\n",
       "      <th>STDC</th>\n",
       "      <th>EKC</th>\n",
       "      <th>SC</th>\n",
       "      <th>TARGET</th>\n",
       "    </tr>\n",
       "  </thead>\n",
       "  <tbody>\n",
       "    <tr>\n",
       "      <th>10733</th>\n",
       "      <td>0.555100</td>\n",
       "      <td>0.383828</td>\n",
       "      <td>0.222911</td>\n",
       "      <td>0.021401</td>\n",
       "      <td>0.009729</td>\n",
       "      <td>0.074490</td>\n",
       "      <td>0.340543</td>\n",
       "      <td>0.101914</td>\n",
       "      <td>0</td>\n",
       "    </tr>\n",
       "    <tr>\n",
       "      <th>10734</th>\n",
       "      <td>0.339718</td>\n",
       "      <td>0.094383</td>\n",
       "      <td>0.443101</td>\n",
       "      <td>0.188568</td>\n",
       "      <td>0.173096</td>\n",
       "      <td>0.595560</td>\n",
       "      <td>0.125772</td>\n",
       "      <td>0.002648</td>\n",
       "      <td>1</td>\n",
       "    </tr>\n",
       "    <tr>\n",
       "      <th>10735</th>\n",
       "      <td>0.544310</td>\n",
       "      <td>0.241959</td>\n",
       "      <td>0.251351</td>\n",
       "      <td>0.044079</td>\n",
       "      <td>0.007163</td>\n",
       "      <td>0.052441</td>\n",
       "      <td>0.372391</td>\n",
       "      <td>0.135287</td>\n",
       "      <td>0</td>\n",
       "    </tr>\n",
       "    <tr>\n",
       "      <th>10736</th>\n",
       "      <td>0.345029</td>\n",
       "      <td>0.155543</td>\n",
       "      <td>0.279354</td>\n",
       "      <td>0.082234</td>\n",
       "      <td>0.005867</td>\n",
       "      <td>0.076229</td>\n",
       "      <td>0.401233</td>\n",
       "      <td>0.135307</td>\n",
       "      <td>0</td>\n",
       "    </tr>\n",
       "    <tr>\n",
       "      <th>10737</th>\n",
       "      <td>0.602401</td>\n",
       "      <td>0.340938</td>\n",
       "      <td>0.201554</td>\n",
       "      <td>0.024641</td>\n",
       "      <td>0.008643</td>\n",
       "      <td>0.116256</td>\n",
       "      <td>0.348604</td>\n",
       "      <td>0.089879</td>\n",
       "      <td>0</td>\n",
       "    </tr>\n",
       "  </tbody>\n",
       "</table>\n",
       "</div>"
      ],
      "text/plain": [
       "            MIP     STDIP      EKIP       SIP        MC      STDC       EKC  \\\n",
       "10733  0.555100  0.383828  0.222911  0.021401  0.009729  0.074490  0.340543   \n",
       "10734  0.339718  0.094383  0.443101  0.188568  0.173096  0.595560  0.125772   \n",
       "10735  0.544310  0.241959  0.251351  0.044079  0.007163  0.052441  0.372391   \n",
       "10736  0.345029  0.155543  0.279354  0.082234  0.005867  0.076229  0.401233   \n",
       "10737  0.602401  0.340938  0.201554  0.024641  0.008643  0.116256  0.348604   \n",
       "\n",
       "             SC  TARGET  \n",
       "10733  0.101914       0  \n",
       "10734  0.002648       1  \n",
       "10735  0.135287       0  \n",
       "10736  0.135307       0  \n",
       "10737  0.089879       0  "
      ]
     },
     "execution_count": 98,
     "metadata": {},
     "output_type": "execute_result"
    }
   ],
   "source": [
    "train.tail()\n"
   ]
  },
  {
   "cell_type": "code",
   "execution_count": 99,
   "id": "1bf62bf5",
   "metadata": {},
   "outputs": [
    {
     "data": {
      "text/html": [
       "<div>\n",
       "<style scoped>\n",
       "    .dataframe tbody tr th:only-of-type {\n",
       "        vertical-align: middle;\n",
       "    }\n",
       "\n",
       "    .dataframe tbody tr th {\n",
       "        vertical-align: top;\n",
       "    }\n",
       "\n",
       "    .dataframe thead th {\n",
       "        text-align: right;\n",
       "    }\n",
       "</style>\n",
       "<table border=\"1\" class=\"dataframe\">\n",
       "  <thead>\n",
       "    <tr style=\"text-align: right;\">\n",
       "      <th></th>\n",
       "      <th>MIP</th>\n",
       "      <th>STDIP</th>\n",
       "      <th>EKIP</th>\n",
       "      <th>SIP</th>\n",
       "      <th>MC</th>\n",
       "      <th>STDC</th>\n",
       "      <th>EKC</th>\n",
       "      <th>SC</th>\n",
       "      <th>TARGET</th>\n",
       "    </tr>\n",
       "  </thead>\n",
       "  <tbody>\n",
       "    <tr>\n",
       "      <th>17893</th>\n",
       "      <td>0.617247</td>\n",
       "      <td>0.342607</td>\n",
       "      <td>0.186825</td>\n",
       "      <td>0.022863</td>\n",
       "      <td>0.006065</td>\n",
       "      <td>0.033255</td>\n",
       "      <td>0.447896</td>\n",
       "      <td>0.227224</td>\n",
       "      <td>0</td>\n",
       "    </tr>\n",
       "    <tr>\n",
       "      <th>17894</th>\n",
       "      <td>0.614905</td>\n",
       "      <td>0.218176</td>\n",
       "      <td>0.217935</td>\n",
       "      <td>0.034609</td>\n",
       "      <td>0.005646</td>\n",
       "      <td>0.063348</td>\n",
       "      <td>0.432158</td>\n",
       "      <td>0.172169</td>\n",
       "      <td>0</td>\n",
       "    </tr>\n",
       "    <tr>\n",
       "      <th>17895</th>\n",
       "      <td>0.708168</td>\n",
       "      <td>0.312988</td>\n",
       "      <td>0.170346</td>\n",
       "      <td>0.021578</td>\n",
       "      <td>0.013701</td>\n",
       "      <td>0.092895</td>\n",
       "      <td>0.268799</td>\n",
       "      <td>0.054503</td>\n",
       "      <td>0</td>\n",
       "    </tr>\n",
       "    <tr>\n",
       "      <th>17896</th>\n",
       "      <td>0.608716</td>\n",
       "      <td>0.262494</td>\n",
       "      <td>0.191309</td>\n",
       "      <td>0.030683</td>\n",
       "      <td>0.007238</td>\n",
       "      <td>0.051356</td>\n",
       "      <td>0.379340</td>\n",
       "      <td>0.141293</td>\n",
       "      <td>0</td>\n",
       "    </tr>\n",
       "    <tr>\n",
       "      <th>17897</th>\n",
       "      <td>0.797959</td>\n",
       "      <td>0.321845</td>\n",
       "      <td>0.159908</td>\n",
       "      <td>0.027487</td>\n",
       "      <td>0.017653</td>\n",
       "      <td>0.141389</td>\n",
       "      <td>0.262376</td>\n",
       "      <td>0.045438</td>\n",
       "      <td>0</td>\n",
       "    </tr>\n",
       "  </tbody>\n",
       "</table>\n",
       "</div>"
      ],
      "text/plain": [
       "            MIP     STDIP      EKIP       SIP        MC      STDC       EKC  \\\n",
       "17893  0.617247  0.342607  0.186825  0.022863  0.006065  0.033255  0.447896   \n",
       "17894  0.614905  0.218176  0.217935  0.034609  0.005646  0.063348  0.432158   \n",
       "17895  0.708168  0.312988  0.170346  0.021578  0.013701  0.092895  0.268799   \n",
       "17896  0.608716  0.262494  0.191309  0.030683  0.007238  0.051356  0.379340   \n",
       "17897  0.797959  0.321845  0.159908  0.027487  0.017653  0.141389  0.262376   \n",
       "\n",
       "             SC  TARGET  \n",
       "17893  0.227224       0  \n",
       "17894  0.172169       0  \n",
       "17895  0.054503       0  \n",
       "17896  0.141293       0  \n",
       "17897  0.045438       0  "
      ]
     },
     "execution_count": 99,
     "metadata": {},
     "output_type": "execute_result"
    }
   ],
   "source": [
    "test.tail()"
   ]
  },
  {
   "cell_type": "code",
   "execution_count": 100,
   "id": "e78be57f",
   "metadata": {},
   "outputs": [
    {
     "data": {
      "text/html": [
       "<div>\n",
       "<style scoped>\n",
       "    .dataframe tbody tr th:only-of-type {\n",
       "        vertical-align: middle;\n",
       "    }\n",
       "\n",
       "    .dataframe tbody tr th {\n",
       "        vertical-align: top;\n",
       "    }\n",
       "\n",
       "    .dataframe thead th {\n",
       "        text-align: right;\n",
       "    }\n",
       "</style>\n",
       "<table border=\"1\" class=\"dataframe\">\n",
       "  <thead>\n",
       "    <tr style=\"text-align: right;\">\n",
       "      <th></th>\n",
       "      <th>MIP</th>\n",
       "      <th>STDIP</th>\n",
       "      <th>EKIP</th>\n",
       "      <th>SIP</th>\n",
       "      <th>MC</th>\n",
       "      <th>STDC</th>\n",
       "      <th>EKC</th>\n",
       "      <th>SC</th>\n",
       "      <th>TARGET</th>\n",
       "    </tr>\n",
       "  </thead>\n",
       "  <tbody>\n",
       "    <tr>\n",
       "      <th>10738</th>\n",
       "      <td>0.790557</td>\n",
       "      <td>0.213871</td>\n",
       "      <td>0.154074</td>\n",
       "      <td>0.040281</td>\n",
       "      <td>0.031047</td>\n",
       "      <td>0.285001</td>\n",
       "      <td>0.220324</td>\n",
       "      <td>0.022974</td>\n",
       "      <td>0</td>\n",
       "    </tr>\n",
       "    <tr>\n",
       "      <th>10739</th>\n",
       "      <td>0.105684</td>\n",
       "      <td>0.149163</td>\n",
       "      <td>0.633088</td>\n",
       "      <td>0.323492</td>\n",
       "      <td>0.241782</td>\n",
       "      <td>0.578280</td>\n",
       "      <td>0.116522</td>\n",
       "      <td>0.002281</td>\n",
       "      <td>1</td>\n",
       "    </tr>\n",
       "    <tr>\n",
       "      <th>10740</th>\n",
       "      <td>0.437581</td>\n",
       "      <td>0.192130</td>\n",
       "      <td>0.250226</td>\n",
       "      <td>0.049952</td>\n",
       "      <td>0.010906</td>\n",
       "      <td>0.111093</td>\n",
       "      <td>0.302118</td>\n",
       "      <td>0.064997</td>\n",
       "      <td>0</td>\n",
       "    </tr>\n",
       "    <tr>\n",
       "      <th>10741</th>\n",
       "      <td>0.479528</td>\n",
       "      <td>0.198621</td>\n",
       "      <td>0.240602</td>\n",
       "      <td>0.040364</td>\n",
       "      <td>0.009389</td>\n",
       "      <td>0.128604</td>\n",
       "      <td>0.336014</td>\n",
       "      <td>0.079266</td>\n",
       "      <td>0</td>\n",
       "    </tr>\n",
       "    <tr>\n",
       "      <th>10742</th>\n",
       "      <td>0.486345</td>\n",
       "      <td>0.229366</td>\n",
       "      <td>0.233275</td>\n",
       "      <td>0.039348</td>\n",
       "      <td>0.012105</td>\n",
       "      <td>0.086298</td>\n",
       "      <td>0.284426</td>\n",
       "      <td>0.064263</td>\n",
       "      <td>0</td>\n",
       "    </tr>\n",
       "  </tbody>\n",
       "</table>\n",
       "</div>"
      ],
      "text/plain": [
       "            MIP     STDIP      EKIP       SIP        MC      STDC       EKC  \\\n",
       "10738  0.790557  0.213871  0.154074  0.040281  0.031047  0.285001  0.220324   \n",
       "10739  0.105684  0.149163  0.633088  0.323492  0.241782  0.578280  0.116522   \n",
       "10740  0.437581  0.192130  0.250226  0.049952  0.010906  0.111093  0.302118   \n",
       "10741  0.479528  0.198621  0.240602  0.040364  0.009389  0.128604  0.336014   \n",
       "10742  0.486345  0.229366  0.233275  0.039348  0.012105  0.086298  0.284426   \n",
       "\n",
       "             SC  TARGET  \n",
       "10738  0.022974       0  \n",
       "10739  0.002281       1  \n",
       "10740  0.064997       0  \n",
       "10741  0.079266       0  \n",
       "10742  0.064263       0  "
      ]
     },
     "execution_count": 100,
     "metadata": {},
     "output_type": "execute_result"
    }
   ],
   "source": [
    "valid.head()"
   ]
  },
  {
   "cell_type": "code",
   "execution_count": 101,
   "id": "13a930af",
   "metadata": {},
   "outputs": [
    {
     "data": {
      "text/html": [
       "<div>\n",
       "<style scoped>\n",
       "    .dataframe tbody tr th:only-of-type {\n",
       "        vertical-align: middle;\n",
       "    }\n",
       "\n",
       "    .dataframe tbody tr th {\n",
       "        vertical-align: top;\n",
       "    }\n",
       "\n",
       "    .dataframe thead th {\n",
       "        text-align: right;\n",
       "    }\n",
       "</style>\n",
       "<table border=\"1\" class=\"dataframe\">\n",
       "  <thead>\n",
       "    <tr style=\"text-align: right;\">\n",
       "      <th></th>\n",
       "      <th>MIP</th>\n",
       "      <th>STDIP</th>\n",
       "      <th>EKIP</th>\n",
       "      <th>SIP</th>\n",
       "      <th>MC</th>\n",
       "      <th>STDC</th>\n",
       "      <th>EKC</th>\n",
       "      <th>SC</th>\n",
       "      <th>TARGET</th>\n",
       "    </tr>\n",
       "  </thead>\n",
       "  <tbody>\n",
       "    <tr>\n",
       "      <th>14314</th>\n",
       "      <td>0.527414</td>\n",
       "      <td>0.347802</td>\n",
       "      <td>0.233270</td>\n",
       "      <td>0.028479</td>\n",
       "      <td>0.008122</td>\n",
       "      <td>0.078636</td>\n",
       "      <td>0.323368</td>\n",
       "      <td>0.082563</td>\n",
       "      <td>0</td>\n",
       "    </tr>\n",
       "    <tr>\n",
       "      <th>14315</th>\n",
       "      <td>0.650286</td>\n",
       "      <td>0.395126</td>\n",
       "      <td>0.205859</td>\n",
       "      <td>0.016146</td>\n",
       "      <td>0.011767</td>\n",
       "      <td>0.125239</td>\n",
       "      <td>0.307767</td>\n",
       "      <td>0.066314</td>\n",
       "      <td>0</td>\n",
       "    </tr>\n",
       "    <tr>\n",
       "      <th>14316</th>\n",
       "      <td>0.851156</td>\n",
       "      <td>0.242255</td>\n",
       "      <td>0.074624</td>\n",
       "      <td>0.056619</td>\n",
       "      <td>0.175017</td>\n",
       "      <td>0.583977</td>\n",
       "      <td>0.124686</td>\n",
       "      <td>0.002593</td>\n",
       "      <td>0</td>\n",
       "    </tr>\n",
       "    <tr>\n",
       "      <th>14317</th>\n",
       "      <td>0.699302</td>\n",
       "      <td>0.406641</td>\n",
       "      <td>0.172674</td>\n",
       "      <td>0.017215</td>\n",
       "      <td>0.007347</td>\n",
       "      <td>0.101129</td>\n",
       "      <td>0.376795</td>\n",
       "      <td>0.108234</td>\n",
       "      <td>0</td>\n",
       "    </tr>\n",
       "    <tr>\n",
       "      <th>14318</th>\n",
       "      <td>0.472669</td>\n",
       "      <td>0.218782</td>\n",
       "      <td>0.251416</td>\n",
       "      <td>0.046269</td>\n",
       "      <td>0.012318</td>\n",
       "      <td>0.128323</td>\n",
       "      <td>0.296378</td>\n",
       "      <td>0.059717</td>\n",
       "      <td>0</td>\n",
       "    </tr>\n",
       "  </tbody>\n",
       "</table>\n",
       "</div>"
      ],
      "text/plain": [
       "            MIP     STDIP      EKIP       SIP        MC      STDC       EKC  \\\n",
       "14314  0.527414  0.347802  0.233270  0.028479  0.008122  0.078636  0.323368   \n",
       "14315  0.650286  0.395126  0.205859  0.016146  0.011767  0.125239  0.307767   \n",
       "14316  0.851156  0.242255  0.074624  0.056619  0.175017  0.583977  0.124686   \n",
       "14317  0.699302  0.406641  0.172674  0.017215  0.007347  0.101129  0.376795   \n",
       "14318  0.472669  0.218782  0.251416  0.046269  0.012318  0.128323  0.296378   \n",
       "\n",
       "             SC  TARGET  \n",
       "14314  0.082563       0  \n",
       "14315  0.066314       0  \n",
       "14316  0.002593       0  \n",
       "14317  0.108234       0  \n",
       "14318  0.059717       0  "
      ]
     },
     "execution_count": 101,
     "metadata": {},
     "output_type": "execute_result"
    }
   ],
   "source": [
    "valid.tail()"
   ]
  },
  {
   "cell_type": "code",
   "execution_count": 102,
   "id": "df54de1d",
   "metadata": {},
   "outputs": [],
   "source": [
    "X = pd.DataFrame(train.drop(['TARGET'], axis=1))"
   ]
  },
  {
   "cell_type": "code",
   "execution_count": 103,
   "id": "2492fc46",
   "metadata": {},
   "outputs": [],
   "source": [
    "Y = pd.DataFrame(train['TARGET'])"
   ]
  },
  {
   "cell_type": "code",
   "execution_count": 104,
   "id": "e66e87fa",
   "metadata": {},
   "outputs": [],
   "source": [
    "X_test = pd.DataFrame(test.drop(['TARGET'], axis=1))"
   ]
  },
  {
   "cell_type": "code",
   "execution_count": 105,
   "id": "d4468b97",
   "metadata": {},
   "outputs": [],
   "source": [
    "Y_test = pd.DataFrame(test['TARGET'])"
   ]
  },
  {
   "cell_type": "code",
   "execution_count": 106,
   "id": "8e084092",
   "metadata": {},
   "outputs": [],
   "source": [
    "#Линейная регрессия\n",
    "reg = LinearRegression().fit(X, Y)"
   ]
  },
  {
   "cell_type": "code",
   "execution_count": 107,
   "id": "b20cc7d2",
   "metadata": {},
   "outputs": [],
   "source": [
    "t=reg.predict(X_test)"
   ]
  },
  {
   "cell_type": "code",
   "execution_count": 108,
   "id": "d252a667",
   "metadata": {},
   "outputs": [],
   "source": [
    "t1=Y_test.to_numpy() #t1- массив с тестовым откликом"
   ]
  },
  {
   "cell_type": "code",
   "execution_count": 109,
   "id": "cde2a716",
   "metadata": {},
   "outputs": [],
   "source": [
    "#Переведем полученные значения в 0 и 1 . Если значение >=0.5, то 1, иначе 0\n",
    "for a in range (len(t)):\n",
    "    if t[a]>=0.5 :\n",
    "        t[a]=1\n",
    "    else:\n",
    "        t[a]=0"
   ]
  },
  {
   "cell_type": "code",
   "execution_count": 110,
   "id": "6fcba2f8",
   "metadata": {},
   "outputs": [],
   "source": [
    "np.savetxt('result1', t)\n",
    "#t.to_csv(\"res_lin_reg.csv\")\n",
    "\n"
   ]
  },
  {
   "cell_type": "code",
   "execution_count": 111,
   "id": "00ef2ec4",
   "metadata": {},
   "outputs": [
    {
     "name": "stdout",
     "output_type": "stream",
     "text": [
      "3542\n"
     ]
    }
   ],
   "source": [
    "n=0\n",
    "for a in range (len(t1)):\n",
    "    if t[a]==t1[a] :\n",
    "        n+=1\n",
    "print(n)"
   ]
  },
  {
   "cell_type": "code",
   "execution_count": 112,
   "id": "de1dbb7c",
   "metadata": {},
   "outputs": [
    {
     "data": {
      "text/plain": [
       "0.7029599251430525"
      ]
     },
     "execution_count": 112,
     "metadata": {},
     "output_type": "execute_result"
    }
   ],
   "source": [
    "r2 = reg.score(X,Y)\n",
    "r2"
   ]
  },
  {
   "cell_type": "code",
   "execution_count": 113,
   "id": "6a5cc141",
   "metadata": {},
   "outputs": [
    {
     "data": {
      "text/plain": [
       "0.8891650910588336"
      ]
     },
     "execution_count": 113,
     "metadata": {},
     "output_type": "execute_result"
    }
   ],
   "source": [
    "f1_score(Y_test, t, average='macro')"
   ]
  },
  {
   "cell_type": "code",
   "execution_count": 28,
   "id": "6000913e",
   "metadata": {},
   "outputs": [],
   "source": [
    "#Из 3579 значений алгоритм распознал 3542 "
   ]
  },
  {
   "cell_type": "code",
   "execution_count": 114,
   "id": "365d17dd",
   "metadata": {},
   "outputs": [
    {
     "data": {
      "text/plain": [
       "array([[ 0.57536364, -0.18504353,  4.53205405, -2.55101321, -0.29561889,\n",
       "         0.34127183, -0.47931375,  0.48456669]])"
      ]
     },
     "execution_count": 114,
     "metadata": {},
     "output_type": "execute_result"
    }
   ],
   "source": [
    "importance = reg.coef_  #Значение коэффициентов  θ1,…,θp :\n",
    "importance\n"
   ]
  },
  {
   "cell_type": "code",
   "execution_count": 115,
   "id": "acef46ed",
   "metadata": {},
   "outputs": [
    {
     "data": {
      "text/plain": [
       "array([-1.0561647])"
      ]
     },
     "execution_count": 115,
     "metadata": {},
     "output_type": "execute_result"
    }
   ],
   "source": [
    "reg.intercept_ #Значение коэффициента  θ0 :"
   ]
  },
  {
   "cell_type": "code",
   "execution_count": 116,
   "id": "0d0a0cba",
   "metadata": {},
   "outputs": [],
   "source": [
    "X1 = pd.DataFrame(train.drop(['TARGET'], axis=1))"
   ]
  },
  {
   "cell_type": "code",
   "execution_count": 117,
   "id": "b4ae1e8b",
   "metadata": {},
   "outputs": [],
   "source": [
    "y1 = pd.DataFrame(train['TARGET']).values.ravel()"
   ]
  },
  {
   "cell_type": "code",
   "execution_count": 118,
   "id": "b336fcaf",
   "metadata": {},
   "outputs": [
    {
     "data": {
      "text/plain": [
       "KNeighborsClassifier(n_neighbors=21)"
      ]
     },
     "execution_count": 118,
     "metadata": {},
     "output_type": "execute_result"
    }
   ],
   "source": [
    "#kNN-метод \n",
    "neigh = KNeighborsClassifier(n_neighbors=21, p=2)\n",
    "neigh.fit(X1, y1)"
   ]
  },
  {
   "cell_type": "code",
   "execution_count": 119,
   "id": "1ae77e23",
   "metadata": {},
   "outputs": [],
   "source": [
    "X_valid = pd.DataFrame(valid.drop(['TARGET'], axis=1))\n",
    "Y_valid = pd.DataFrame(valid['TARGET'])"
   ]
  },
  {
   "cell_type": "code",
   "execution_count": 120,
   "id": "600a11b5",
   "metadata": {},
   "outputs": [],
   "source": [
    "res_knn=neigh.predict(X_valid)"
   ]
  },
  {
   "cell_type": "code",
   "execution_count": 121,
   "id": "30d56c51",
   "metadata": {},
   "outputs": [
    {
     "data": {
      "text/plain": [
       "array([0, 1, 0, ..., 0, 0, 0], dtype=int64)"
      ]
     },
     "execution_count": 121,
     "metadata": {},
     "output_type": "execute_result"
    }
   ],
   "source": [
    "res_knn #массив с результатами knn для валидационного набора"
   ]
  },
  {
   "cell_type": "code",
   "execution_count": 122,
   "id": "353217fd",
   "metadata": {},
   "outputs": [
    {
     "data": {
      "text/plain": [
       "(array([[0.04010119, 0.04849869, 0.0489458 , ..., 0.1010824 , 0.1017323 ,\n",
       "         0.10402827],\n",
       "        [0.04262735, 0.05177563, 0.05248928, ..., 0.10072044, 0.10099551,\n",
       "         0.10292996],\n",
       "        [0.01298574, 0.0233227 , 0.02453166, ..., 0.03302767, 0.03319583,\n",
       "         0.03360801],\n",
       "        ...,\n",
       "        [0.07782336, 0.07968669, 0.1093827 , ..., 0.18537472, 0.19086995,\n",
       "         0.19635154],\n",
       "        [0.02713805, 0.02960404, 0.03430673, ..., 0.04925811, 0.04953093,\n",
       "         0.04968546],\n",
       "        [0.01184802, 0.01371991, 0.02095626, ..., 0.03653839, 0.03694725,\n",
       "         0.0372334 ]]),\n",
       " array([[ 5286,  9750,  2023, ...,  9727,  2723,  5105],\n",
       "        [ 4957,  7944,  4686, ...,  5463,  5809,  5344],\n",
       "        [  724,  3232,  8704, ...,  7064,  4557,  6452],\n",
       "        ...,\n",
       "        [ 5994,  6479,  6569, ...,  3748,  6012,  3249],\n",
       "        [ 5029,  7316,   483, ...,  2351, 10367,  6000],\n",
       "        [ 6595,  9641, 10514, ...,  7545,  9364,  7561]], dtype=int64))"
      ]
     },
     "execution_count": 122,
     "metadata": {},
     "output_type": "execute_result"
    }
   ],
   "source": [
    "neigh.kneighbors(X_valid)"
   ]
  },
  {
   "cell_type": "code",
   "execution_count": 123,
   "id": "e34abb29",
   "metadata": {},
   "outputs": [
    {
     "name": "stdout",
     "output_type": "stream",
     "text": [
      "3517\n"
     ]
    }
   ],
   "source": [
    "t2=Y_valid.to_numpy()  #t2 - массив с валидационными данными отклика\n",
    "k=0\n",
    "for a in range (len(res_knn)):\n",
    "    if res_knn[a]==t2[a] :\n",
    "        k+=1\n",
    "print(k)"
   ]
  },
  {
   "cell_type": "code",
   "execution_count": 124,
   "id": "803c9e71",
   "metadata": {},
   "outputs": [],
   "source": [
    "res_knn_test=neigh.predict(X_test)"
   ]
  },
  {
   "cell_type": "code",
   "execution_count": 125,
   "id": "7aee80c5",
   "metadata": {},
   "outputs": [
    {
     "data": {
      "text/plain": [
       "(array([[0.03177011, 0.03488981, 0.03674367, ..., 0.05001876, 0.05116724,\n",
       "         0.05157489],\n",
       "        [0.01892694, 0.01928914, 0.02431449, ..., 0.04162287, 0.04162416,\n",
       "         0.04167478],\n",
       "        [0.01372589, 0.01897686, 0.02214051, ..., 0.03618474, 0.03664356,\n",
       "         0.03665846],\n",
       "        ...,\n",
       "        [0.01882837, 0.03313636, 0.03490767, ..., 0.04428494, 0.04434473,\n",
       "         0.04435525],\n",
       "        [0.01563422, 0.0175438 , 0.01843601, ..., 0.0371321 , 0.03757803,\n",
       "         0.03771771],\n",
       "        [0.03691649, 0.04012576, 0.04728962, ..., 0.06616455, 0.06622981,\n",
       "         0.06638275]]),\n",
       " array([[ 4706,  5663,  5117, ...,  2183,  2999,  8917],\n",
       "        [ 8497,  7876, 10086, ...,  2600,  8389,  6230],\n",
       "        [ 6980,  8138,  8900, ...,   955, 10598,  7000],\n",
       "        ...,\n",
       "        [ 9907,   765,   943, ...,  4148,  9251,  2457],\n",
       "        [ 3663,   708,   930, ...,  6740,  4065,  8147],\n",
       "        [ 5141,  5988,  3044, ...,   714,  5422,  4762]], dtype=int64))"
      ]
     },
     "execution_count": 125,
     "metadata": {},
     "output_type": "execute_result"
    }
   ],
   "source": [
    "neigh.kneighbors(X_test)"
   ]
  },
  {
   "cell_type": "code",
   "execution_count": 126,
   "id": "4a41e90d",
   "metadata": {},
   "outputs": [
    {
     "name": "stdout",
     "output_type": "stream",
     "text": [
      "3538\n"
     ]
    }
   ],
   "source": [
    "#t3=Y_test.to_numpy()\n",
    "q=0\n",
    "for a in range (len(res_knn_test)):\n",
    "    if res_knn_test[a]==t1[a] :\n",
    "        q+=1\n",
    "print(q)"
   ]
  },
  {
   "cell_type": "code",
   "execution_count": 127,
   "id": "26e82c62",
   "metadata": {},
   "outputs": [
    {
     "data": {
      "text/plain": [
       "0.9885442861134395"
      ]
     },
     "execution_count": 127,
     "metadata": {},
     "output_type": "execute_result"
    }
   ],
   "source": [
    "r2 = neigh.score(X_test,Y_test)\n",
    "r2"
   ]
  },
  {
   "cell_type": "code",
   "execution_count": 128,
   "id": "d359d998",
   "metadata": {},
   "outputs": [
    {
     "data": {
      "text/plain": [
       "0.8799214418690289"
      ]
     },
     "execution_count": 128,
     "metadata": {},
     "output_type": "execute_result"
    }
   ],
   "source": [
    "f1_score(Y_test, res_knn_test, average='macro')"
   ]
  },
  {
   "cell_type": "code",
   "execution_count": null,
   "id": "8d506f4e",
   "metadata": {},
   "outputs": [],
   "source": [
    "#Логистическая регрессия"
   ]
  },
  {
   "cell_type": "code",
   "execution_count": 65,
   "id": "733a9e17",
   "metadata": {},
   "outputs": [],
   "source": [
    "#обучение модели\n",
    "reg_log = LogisticRegression(penalty='l1', random_state=2019, solver='saga').fit(X, Y.values.ravel())"
   ]
  },
  {
   "cell_type": "code",
   "execution_count": 66,
   "id": "0a8ab0a4",
   "metadata": {},
   "outputs": [],
   "source": [
    "res_log_valid=reg_log.predict(X_valid)"
   ]
  },
  {
   "cell_type": "code",
   "execution_count": 67,
   "id": "babf66fc",
   "metadata": {},
   "outputs": [
    {
     "name": "stdout",
     "output_type": "stream",
     "text": [
      "3519\n"
     ]
    },
    {
     "data": {
      "text/plain": [
       "0.9826864004468026"
      ]
     },
     "execution_count": 67,
     "metadata": {},
     "output_type": "execute_result"
    }
   ],
   "source": [
    "res_log_valid\n",
    "\n",
    "b=0\n",
    "for a in range (len(res_log_valid)):\n",
    "    if res_log_valid[a]==t2[a] :\n",
    "        b+=1\n",
    "print(b)\n",
    "r2 = reg_log.score(X_valid,Y_valid)\n",
    "r2"
   ]
  },
  {
   "cell_type": "code",
   "execution_count": 68,
   "id": "babcd787",
   "metadata": {},
   "outputs": [],
   "source": [
    "res_log_test=reg_log.predict(X_test)"
   ]
  },
  {
   "cell_type": "code",
   "execution_count": 69,
   "id": "0d9b3285",
   "metadata": {},
   "outputs": [
    {
     "name": "stdout",
     "output_type": "stream",
     "text": [
      "3539\n"
     ]
    },
    {
     "data": {
      "text/plain": [
       "0.9888236937692093"
      ]
     },
     "execution_count": 69,
     "metadata": {},
     "output_type": "execute_result"
    }
   ],
   "source": [
    "t3=Y_test.to_numpy()\n",
    "\n",
    "b=0\n",
    "for a in range (len(res_log_test)):\n",
    "    if res_log_test[a]==t3[a] :\n",
    "        b+=1\n",
    "print(b)\n",
    "r2 = reg_log.score(X_test,Y_test)\n",
    "r2"
   ]
  },
  {
   "cell_type": "code",
   "execution_count": 70,
   "id": "f9cc9f7d",
   "metadata": {},
   "outputs": [],
   "source": [
    "#отбор отклика Y из тестовых данных и преобразование в массив\n",
    "Y_true = (test['TARGET'].to_frame().T).values.ravel()"
   ]
  },
  {
   "cell_type": "code",
   "execution_count": 71,
   "id": "f2fcda6f",
   "metadata": {},
   "outputs": [],
   "source": [
    "Y_pred_probs = reg_log.predict_proba(X_test)"
   ]
  },
  {
   "cell_type": "code",
   "execution_count": 72,
   "id": "c55aec12",
   "metadata": {},
   "outputs": [],
   "source": [
    "#отбор вероятностей отнесения объектов к классу 1\n",
    "Y_pred_probs_class_1 = Y_pred_probs[:, 1]"
   ]
  },
  {
   "cell_type": "code",
   "execution_count": 73,
   "id": "102412e3",
   "metadata": {},
   "outputs": [],
   "source": [
    "#подключение библиотеки для вычисления метрик\n",
    "from sklearn import metrics"
   ]
  },
  {
   "cell_type": "code",
   "execution_count": 74,
   "id": "2bd7402e",
   "metadata": {},
   "outputs": [],
   "source": [
    "fpr, tpr, _ = metrics.roc_curve(Y_true, res_log_test)"
   ]
  },
  {
   "cell_type": "code",
   "execution_count": 75,
   "id": "d35830d0",
   "metadata": {},
   "outputs": [
    {
     "data": {
      "text/plain": [
       "0.9690059974314534"
      ]
     },
     "execution_count": 75,
     "metadata": {},
     "output_type": "execute_result"
    }
   ],
   "source": [
    "#вычисляем AUC\n",
    "metrics.roc_auc_score(Y_true, Y_pred_probs_class_1)"
   ]
  },
  {
   "cell_type": "code",
   "execution_count": 76,
   "id": "62dcc0c7",
   "metadata": {},
   "outputs": [
    {
     "data": {
      "text/plain": [
       "0.7608695652173914"
      ]
     },
     "execution_count": 76,
     "metadata": {},
     "output_type": "execute_result"
    }
   ],
   "source": [
    "#вычисление Recall\n",
    "metrics.recall_score(Y_true, res_log_test)"
   ]
  },
  {
   "cell_type": "code",
   "execution_count": 77,
   "id": "4aac6792",
   "metadata": {},
   "outputs": [
    {
     "data": {
      "text/plain": [
       "0.7954545454545454"
      ]
     },
     "execution_count": 77,
     "metadata": {},
     "output_type": "execute_result"
    }
   ],
   "source": [
    "#вычисление Precision\n",
    "metrics.precision_score(Y_true, res_log_test)"
   ]
  },
  {
   "cell_type": "code",
   "execution_count": 93,
   "id": "c0a56c13",
   "metadata": {},
   "outputs": [
    {
     "data": {
      "text/plain": [
       "0.8860227381293589"
      ]
     },
     "execution_count": 93,
     "metadata": {},
     "output_type": "execute_result"
    }
   ],
   "source": [
    "f1_score(Y_test, res_log_test, average='macro')"
   ]
  },
  {
   "cell_type": "code",
   "execution_count": 80,
   "id": "c3becd54",
   "metadata": {},
   "outputs": [
    {
     "name": "stderr",
     "output_type": "stream",
     "text": [
      "E:\\Anaconda\\lib\\site-packages\\sklearn\\utils\\deprecation.py:87: FutureWarning: Function plot_roc_curve is deprecated; Function :func:`plot_roc_curve` is deprecated in 1.0 and will be removed in 1.2. Use one of the class methods: :meth:`sklearn.metric.RocCurveDisplay.from_predictions` or :meth:`sklearn.metric.RocCurveDisplay.from_estimator`.\n",
      "  warnings.warn(msg, category=FutureWarning)\n"
     ]
    },
    {
     "data": {
      "image/png": "[encoded data removed]",
      "text/plain": [
       "<Figure size 432x288 with 1 Axes>"
      ]
     },
     "metadata": {
      "needs_background": "light"
     },
     "output_type": "display_data"
    }
   ],
   "source": [
    "metrics.plot_roc_curve(reg_log, X_test, Y_true, color='darkorange') \n",
    "plt.xlim([0.0, 1.0])\n",
    "plt.ylim([0.0, 1.05])\n",
    "plt.xlabel('False Positive Rate')\n",
    "plt.ylabel('True Positive Rate')\n",
    "plt.title('Receiver operating characteristic example')\n",
    "plt.legend(loc=\"lower right\")\n",
    "plt.plot([0, 1], [0, 1], color='navy', lw=2, linestyle='--')\n",
    "plt.show()"
   ]
  },
  {
   "cell_type": "code",
   "execution_count": 83,
   "id": "66029d83",
   "metadata": {},
   "outputs": [],
   "source": [
    "from matplotlib.pylab import rc, plot\n",
    "import seaborn as sns\n",
    "from sklearn.preprocessing import LabelEncoder, OneHotEncoder\n",
    "from sklearn.model_selection import cross_val_score\n",
    "from sklearn.linear_model import LogisticRegression\n",
    "from sklearn.ensemble import RandomForestClassifier, GradientBoostingClassifier\n",
    "from sklearn.metrics import precision_recall_curve, classification_report\n",
    "from sklearn.model_selection import train_test_split\n",
    "from sklearn.metrics import confusion_matrix"
   ]
  },
  {
   "cell_type": "code",
   "execution_count": 86,
   "id": "2acfe983",
   "metadata": {},
   "outputs": [
    {
     "name": "stdout",
     "output_type": "stream",
     "text": [
      "              precision    recall  f1-score   support\n",
      "\n",
      " Non-churned       0.99      0.99      0.99      3487\n",
      "     Churned       0.80      0.76      0.78        92\n",
      "\n",
      "    accuracy                           0.99      3579\n",
      "   macro avg       0.89      0.88      0.89      3579\n",
      "weighted avg       0.99      0.99      0.99      3579\n",
      "\n"
     ]
    }
   ],
   "source": [
    "report = classification_report(Y_test, reg_log.predict(X_test), target_names=['Non-churned', 'Churned'])\n",
    "print(report)"
   ]
  },
  {
   "cell_type": "code",
   "execution_count": 84,
   "id": "d61a2a14",
   "metadata": {},
   "outputs": [
    {
     "name": "stdout",
     "output_type": "stream",
     "text": [
      "Confusion matrix, without normalization\n",
      "[[3469   18]\n",
      " [  22   70]]\n"
     ]
    },
    {
     "ename": "NameError",
     "evalue": "name 'itertools' is not defined",
     "output_type": "error",
     "traceback": [
      "\u001b[1;31m---------------------------------------------------------------------------\u001b[0m",
      "\u001b[1;31mNameError\u001b[0m                                 Traceback (most recent call last)",
      "Input \u001b[1;32mIn [84]\u001b[0m, in \u001b[0;36m<cell line: 40>\u001b[1;34m()\u001b[0m\n\u001b[0;32m     38\u001b[0m cnf_matrix \u001b[38;5;241m=\u001b[39m confusion_matrix(Y_test, reg_log\u001b[38;5;241m.\u001b[39mpredict(X_test))\n\u001b[0;32m     39\u001b[0m plt\u001b[38;5;241m.\u001b[39mfigure(figsize\u001b[38;5;241m=\u001b[39m(\u001b[38;5;241m10\u001b[39m, \u001b[38;5;241m8\u001b[39m))\n\u001b[1;32m---> 40\u001b[0m \u001b[43mplot_confusion_matrix\u001b[49m\u001b[43m(\u001b[49m\u001b[43mcnf_matrix\u001b[49m\u001b[43m,\u001b[49m\u001b[43m \u001b[49m\u001b[43mclasses\u001b[49m\u001b[38;5;241;43m=\u001b[39;49m\u001b[43m[\u001b[49m\u001b[38;5;124;43m'\u001b[39;49m\u001b[38;5;124;43mNon-churned\u001b[39;49m\u001b[38;5;124;43m'\u001b[39;49m\u001b[43m,\u001b[49m\u001b[43m \u001b[49m\u001b[38;5;124;43m'\u001b[39;49m\u001b[38;5;124;43mChurned\u001b[39;49m\u001b[38;5;124;43m'\u001b[39;49m\u001b[43m]\u001b[49m\u001b[43m,\u001b[49m\n\u001b[0;32m     41\u001b[0m \u001b[43m                      \u001b[49m\u001b[43mtitle\u001b[49m\u001b[38;5;241;43m=\u001b[39;49m\u001b[38;5;124;43m'\u001b[39;49m\u001b[38;5;124;43mConfusion matrix\u001b[39;49m\u001b[38;5;124;43m'\u001b[39;49m\u001b[43m)\u001b[49m\n\u001b[0;32m     42\u001b[0m plt\u001b[38;5;241m.\u001b[39msavefig(\u001b[38;5;124m\"\u001b[39m\u001b[38;5;124mconf_matrix.png\u001b[39m\u001b[38;5;124m\"\u001b[39m)\n\u001b[0;32m     43\u001b[0m plt\u001b[38;5;241m.\u001b[39mshow()\n",
      "Input \u001b[1;32mIn [84]\u001b[0m, in \u001b[0;36mplot_confusion_matrix\u001b[1;34m(cm, classes, normalize, title, cmap)\u001b[0m\n\u001b[0;32m     22\u001b[0m \u001b[38;5;28mprint\u001b[39m(cm)\n\u001b[0;32m     24\u001b[0m thresh \u001b[38;5;241m=\u001b[39m cm\u001b[38;5;241m.\u001b[39mmax() \u001b[38;5;241m/\u001b[39m \u001b[38;5;241m2.\u001b[39m\n\u001b[1;32m---> 25\u001b[0m \u001b[38;5;28;01mfor\u001b[39;00m i, j \u001b[38;5;129;01min\u001b[39;00m \u001b[43mitertools\u001b[49m\u001b[38;5;241m.\u001b[39mproduct(\u001b[38;5;28mrange\u001b[39m(cm\u001b[38;5;241m.\u001b[39mshape[\u001b[38;5;241m0\u001b[39m]), \u001b[38;5;28mrange\u001b[39m(cm\u001b[38;5;241m.\u001b[39mshape[\u001b[38;5;241m1\u001b[39m])):\n\u001b[0;32m     26\u001b[0m     plt\u001b[38;5;241m.\u001b[39mtext(j, i, cm[i, j],\n\u001b[0;32m     27\u001b[0m              horizontalalignment\u001b[38;5;241m=\u001b[39m\u001b[38;5;124m\"\u001b[39m\u001b[38;5;124mcenter\u001b[39m\u001b[38;5;124m\"\u001b[39m,\n\u001b[0;32m     28\u001b[0m              color\u001b[38;5;241m=\u001b[39m\u001b[38;5;124m\"\u001b[39m\u001b[38;5;124mwhite\u001b[39m\u001b[38;5;124m\"\u001b[39m \u001b[38;5;28;01mif\u001b[39;00m cm[i, j] \u001b[38;5;241m>\u001b[39m thresh \u001b[38;5;28;01melse\u001b[39;00m \u001b[38;5;124m\"\u001b[39m\u001b[38;5;124mblack\u001b[39m\u001b[38;5;124m\"\u001b[39m)\n\u001b[0;32m     30\u001b[0m plt\u001b[38;5;241m.\u001b[39mtight_layout()\n",
      "\u001b[1;31mNameError\u001b[0m: name 'itertools' is not defined"
     ]
    },
    {
     "data": {
      "image/png": "[encoded data removed]",
      "text/plain": [
       "<Figure size 720x576 with 2 Axes>"
      ]
     },
     "metadata": {
      "needs_background": "light"
     },
     "output_type": "display_data"
    }
   ],
   "source": [
    "def plot_confusion_matrix(cm, classes,\n",
    "                          normalize=False,\n",
    "                          title='Confusion matrix',\n",
    "                          cmap=plt.cm.Blues):\n",
    "    \"\"\"\n",
    "    This function prints and plots the confusion matrix.\n",
    "    Normalization can be applied by setting `normalize=True`.\n",
    "    \"\"\"\n",
    "    plt.imshow(cm, interpolation='nearest', cmap=cmap)\n",
    "    plt.title(title)\n",
    "    plt.colorbar()\n",
    "    tick_marks = np.arange(len(classes))\n",
    "    plt.xticks(tick_marks, classes, rotation=45)\n",
    "    plt.yticks(tick_marks, classes)\n",
    "\n",
    "    if normalize:\n",
    "        cm = cm.astype('float') / cm.sum(axis=1)[:, np.newaxis]\n",
    "        print(\"Normalized confusion matrix\")\n",
    "    else:\n",
    "        print('Confusion matrix, without normalization')\n",
    "\n",
    "    print(cm)\n",
    "\n",
    "    thresh = cm.max() / 2.\n",
    "    for i, j in itertools.product(range(cm.shape[0]), range(cm.shape[1])):\n",
    "        plt.text(j, i, cm[i, j],\n",
    "                 horizontalalignment=\"center\",\n",
    "                 color=\"white\" if cm[i, j] > thresh else \"black\")\n",
    "\n",
    "    plt.tight_layout()\n",
    "    plt.ylabel('True label')\n",
    "    plt.xlabel('Predicted label')\n",
    "\n",
    "font = {'size' : 15}\n",
    "\n",
    "plt.rc('font', **font)\n",
    "\n",
    "cnf_matrix = confusion_matrix(Y_test, reg_log.predict(X_test))\n",
    "plt.figure(figsize=(10, 8))\n",
    "plot_confusion_matrix(cnf_matrix, classes=['Non-churned', 'Churned'],\n",
    "                      title='Confusion matrix')\n",
    "plt.savefig(\"conf_matrix.png\")\n",
    "plt.show()"
   ]
  },
  {
   "cell_type": "code",
   "execution_count": 1,
   "id": "8d3ac737",
   "metadata": {},
   "outputs": [],
   "source": [
    "from sklearn.tree import DecisionTreeClassifier"
   ]
  },
  {
   "cell_type": "code",
   "execution_count": 167,
   "id": "aaa9c394",
   "metadata": {},
   "outputs": [],
   "source": [
    "features = list(train.columns[:8])\n",
    "x = train[features]\n",
    "y = train['TARGET']"
   ]
  },
  {
   "cell_type": "code",
   "execution_count": 168,
   "id": "e30f8270",
   "metadata": {},
   "outputs": [],
   "source": [
    "#Дерево решений\n",
    "tree = DecisionTreeClassifier(criterion='entropy', #критерий разделения\n",
    "                              min_samples_leaf=10, #минимальное число объектов в листе\n",
    "                              max_leaf_nodes=30, #максимальное число листьев\n",
    "                              random_state=2020)\n",
    "clf=tree.fit(x, y)"
   ]
  },
  {
   "cell_type": "code",
   "execution_count": 169,
   "id": "b121de85",
   "metadata": {},
   "outputs": [],
   "source": [
    "features = list(valid.columns[:8])\n",
    "x1 = valid[features]\n",
    "y_true = valid['TARGET']\n",
    "y_pred = clf.predict(x1)"
   ]
  },
  {
   "cell_type": "code",
   "execution_count": 170,
   "id": "3ae3dd13",
   "metadata": {},
   "outputs": [],
   "source": [
    "features = list(test.columns[:8])\n",
    "x2 = test[features]\n",
    "y_true = test['TARGET']\n",
    "y_pred = clf.predict(x2)"
   ]
  },
  {
   "cell_type": "code",
   "execution_count": 171,
   "id": "5f9ea70d",
   "metadata": {},
   "outputs": [
    {
     "name": "stdout",
     "output_type": "stream",
     "text": [
      "3535\n"
     ]
    }
   ],
   "source": [
    "k=0\n",
    "for a in range (len(y_pred)):\n",
    "    if y_pred[a]==t3[a] :\n",
    "        k+=1\n",
    "print(k)"
   ]
  },
  {
   "cell_type": "code",
   "execution_count": 174,
   "id": "8ca9b7e9",
   "metadata": {},
   "outputs": [
    {
     "data": {
      "text/plain": [
       "0.9877060631461302"
      ]
     },
     "execution_count": 174,
     "metadata": {},
     "output_type": "execute_result"
    }
   ],
   "source": [
    "from sklearn.metrics import accuracy_score\n",
    "accuracy_score(y_true, y_pred)"
   ]
  },
  {
   "cell_type": "code",
   "execution_count": 175,
   "id": "0a2b7a6b",
   "metadata": {},
   "outputs": [
    {
     "data": {
      "text/plain": [
       "0.7528089887640451"
      ]
     },
     "execution_count": 175,
     "metadata": {},
     "output_type": "execute_result"
    }
   ],
   "source": [
    "from sklearn.metrics import f1_score\n",
    "f1_score(y_true, y_pred) #average='macro')"
   ]
  },
  {
   "cell_type": "code",
   "execution_count": 176,
   "id": "d7449c45",
   "metadata": {},
   "outputs": [
    {
     "data": {
      "text/plain": [
       "0.8732526319178391"
      ]
     },
     "execution_count": 176,
     "metadata": {},
     "output_type": "execute_result"
    }
   ],
   "source": [
    "f1_score(y_true, y_pred, average='macro')"
   ]
  },
  {
   "cell_type": "code",
   "execution_count": 177,
   "id": "86821383",
   "metadata": {},
   "outputs": [
    {
     "data": {
      "text/plain": [
       "8"
      ]
     },
     "execution_count": 177,
     "metadata": {},
     "output_type": "execute_result"
    }
   ],
   "source": [
    "clf.tree_.max_depth"
   ]
  },
  {
   "cell_type": "code",
   "execution_count": 166,
   "id": "8c2fa628",
   "metadata": {},
   "outputs": [
    {
     "data": {
      "text/plain": [
       "0.9815693940240157"
      ]
     },
     "execution_count": 166,
     "metadata": {},
     "output_type": "execute_result"
    }
   ],
   "source": [
    "r2 = clf.score(X_valid,Y_valid)\n",
    "r2"
   ]
  },
  {
   "cell_type": "code",
   "execution_count": 64,
   "id": "9befa7e2",
   "metadata": {},
   "outputs": [
    {
     "name": "stdout",
     "output_type": "stream",
     "text": [
      "              precision    recall  f1-score   support\n",
      "\n",
      " Non-churned       0.99      0.99      0.99      3351\n",
      "     Churned       0.89      0.84      0.86       230\n",
      "\n",
      "    accuracy                           0.98      3581\n",
      "   macro avg       0.94      0.92      0.93      3581\n",
      "weighted avg       0.98      0.98      0.98      3581\n",
      "\n"
     ]
    }
   ],
   "source": [
    "report = classification_report(y_true, clf.predict(x1), target_names=['Non-churned', 'Churned'])\n",
    "print(report)"
   ]
  },
  {
   "cell_type": "code",
   "execution_count": 87,
   "id": "77e194d6",
   "metadata": {},
   "outputs": [],
   "source": [
    "from matplotlib.pylab import rc, plot\n",
    "import seaborn as sns\n",
    "from sklearn.preprocessing import LabelEncoder, OneHotEncoder\n",
    "from sklearn.model_selection import cross_val_score\n",
    "from sklearn.linear_model import LogisticRegression\n",
    "from sklearn.ensemble import RandomForestClassifier, GradientBoostingClassifier\n",
    "from sklearn.metrics import precision_recall_curve, classification_report\n",
    "from sklearn.model_selection import train_test_split"
   ]
  },
  {
   "cell_type": "code",
   "execution_count": 88,
   "id": "8858b500",
   "metadata": {
    "scrolled": true
   },
   "outputs": [
    {
     "name": "stdout",
     "output_type": "stream",
     "text": [
      "Confusion matrix, without normalization\n",
      "[[3463   24]\n",
      " [  24   68]]\n"
     ]
    },
    {
     "ename": "NameError",
     "evalue": "name 'itertools' is not defined",
     "output_type": "error",
     "traceback": [
      "\u001b[1;31m---------------------------------------------------------------------------\u001b[0m",
      "\u001b[1;31mNameError\u001b[0m                                 Traceback (most recent call last)",
      "Input \u001b[1;32mIn [88]\u001b[0m, in \u001b[0;36m<cell line: 40>\u001b[1;34m()\u001b[0m\n\u001b[0;32m     38\u001b[0m cnf_matrix \u001b[38;5;241m=\u001b[39m confusion_matrix(Y_test, clf\u001b[38;5;241m.\u001b[39mpredict(X_test))\n\u001b[0;32m     39\u001b[0m plt\u001b[38;5;241m.\u001b[39mfigure(figsize\u001b[38;5;241m=\u001b[39m(\u001b[38;5;241m10\u001b[39m, \u001b[38;5;241m8\u001b[39m))\n\u001b[1;32m---> 40\u001b[0m \u001b[43mplot_confusion_matrix\u001b[49m\u001b[43m(\u001b[49m\u001b[43mcnf_matrix\u001b[49m\u001b[43m,\u001b[49m\u001b[43m \u001b[49m\u001b[43mclasses\u001b[49m\u001b[38;5;241;43m=\u001b[39;49m\u001b[43m[\u001b[49m\u001b[38;5;124;43m'\u001b[39;49m\u001b[38;5;124;43mNon-churned\u001b[39;49m\u001b[38;5;124;43m'\u001b[39;49m\u001b[43m,\u001b[49m\u001b[43m \u001b[49m\u001b[38;5;124;43m'\u001b[39;49m\u001b[38;5;124;43mChurned\u001b[39;49m\u001b[38;5;124;43m'\u001b[39;49m\u001b[43m]\u001b[49m\u001b[43m,\u001b[49m\n\u001b[0;32m     41\u001b[0m \u001b[43m                      \u001b[49m\u001b[43mtitle\u001b[49m\u001b[38;5;241;43m=\u001b[39;49m\u001b[38;5;124;43m'\u001b[39;49m\u001b[38;5;124;43mConfusion matrix\u001b[39;49m\u001b[38;5;124;43m'\u001b[39;49m\u001b[43m)\u001b[49m\n\u001b[0;32m     42\u001b[0m plt\u001b[38;5;241m.\u001b[39msavefig(\u001b[38;5;124m\"\u001b[39m\u001b[38;5;124mconf_matrix.png\u001b[39m\u001b[38;5;124m\"\u001b[39m)\n\u001b[0;32m     43\u001b[0m plt\u001b[38;5;241m.\u001b[39mshow()\n",
      "Input \u001b[1;32mIn [88]\u001b[0m, in \u001b[0;36mplot_confusion_matrix\u001b[1;34m(cm, classes, normalize, title, cmap)\u001b[0m\n\u001b[0;32m     22\u001b[0m \u001b[38;5;28mprint\u001b[39m(cm)\n\u001b[0;32m     24\u001b[0m thresh \u001b[38;5;241m=\u001b[39m cm\u001b[38;5;241m.\u001b[39mmax() \u001b[38;5;241m/\u001b[39m \u001b[38;5;241m2.\u001b[39m\n\u001b[1;32m---> 25\u001b[0m \u001b[38;5;28;01mfor\u001b[39;00m i, j \u001b[38;5;129;01min\u001b[39;00m \u001b[43mitertools\u001b[49m\u001b[38;5;241m.\u001b[39mproduct(\u001b[38;5;28mrange\u001b[39m(cm\u001b[38;5;241m.\u001b[39mshape[\u001b[38;5;241m0\u001b[39m]), \u001b[38;5;28mrange\u001b[39m(cm\u001b[38;5;241m.\u001b[39mshape[\u001b[38;5;241m1\u001b[39m])):\n\u001b[0;32m     26\u001b[0m     plt\u001b[38;5;241m.\u001b[39mtext(j, i, cm[i, j],\n\u001b[0;32m     27\u001b[0m              horizontalalignment\u001b[38;5;241m=\u001b[39m\u001b[38;5;124m\"\u001b[39m\u001b[38;5;124mcenter\u001b[39m\u001b[38;5;124m\"\u001b[39m,\n\u001b[0;32m     28\u001b[0m              color\u001b[38;5;241m=\u001b[39m\u001b[38;5;124m\"\u001b[39m\u001b[38;5;124mwhite\u001b[39m\u001b[38;5;124m\"\u001b[39m \u001b[38;5;28;01mif\u001b[39;00m cm[i, j] \u001b[38;5;241m>\u001b[39m thresh \u001b[38;5;28;01melse\u001b[39;00m \u001b[38;5;124m\"\u001b[39m\u001b[38;5;124mblack\u001b[39m\u001b[38;5;124m\"\u001b[39m)\n\u001b[0;32m     30\u001b[0m plt\u001b[38;5;241m.\u001b[39mtight_layout()\n",
      "\u001b[1;31mNameError\u001b[0m: name 'itertools' is not defined"
     ]
    },
    {
     "data": {
      "image/png": "[encoded data removed]",
      "text/plain": [
       "<Figure size 720x576 with 2 Axes>"
      ]
     },
     "metadata": {
      "needs_background": "light"
     },
     "output_type": "display_data"
    }
   ],
   "source": [
    "def plot_confusion_matrix(cm, classes,\n",
    "                          normalize=False,\n",
    "                          title='Confusion matrix',\n",
    "                          cmap=plt.cm.Blues):\n",
    "    \"\"\"\n",
    "    This function prints and plots the confusion matrix.\n",
    "    Normalization can be applied by setting `normalize=True`.\n",
    "    \"\"\"\n",
    "    plt.imshow(cm, interpolation='nearest', cmap=cmap)\n",
    "    plt.title(title)\n",
    "    plt.colorbar()\n",
    "    tick_marks = np.arange(len(classes))\n",
    "    plt.xticks(tick_marks, classes, rotation=45)\n",
    "    plt.yticks(tick_marks, classes)\n",
    "\n",
    "    if normalize:\n",
    "        cm = cm.astype('float') / cm.sum(axis=1)[:, np.newaxis]\n",
    "        print(\"Normalized confusion matrix\")\n",
    "    else:\n",
    "        print('Confusion matrix, without normalization')\n",
    "\n",
    "    print(cm)\n",
    "\n",
    "    thresh = cm.max() / 2.\n",
    "    for i, j in itertools.product(range(cm.shape[0]), range(cm.shape[1])):\n",
    "        plt.text(j, i, cm[i, j],\n",
    "                 horizontalalignment=\"center\",\n",
    "                 color=\"white\" if cm[i, j] > thresh else \"black\")\n",
    "\n",
    "    plt.tight_layout()\n",
    "    plt.ylabel('True label')\n",
    "    plt.xlabel('Predicted label')\n",
    "\n",
    "font = {'size' : 15}\n",
    "\n",
    "plt.rc('font', **font)\n",
    "\n",
    "cnf_matrix = confusion_matrix(Y_test, clf.predict(X_test))\n",
    "plt.figure(figsize=(10, 8))\n",
    "plot_confusion_matrix(cnf_matrix, classes=['Non-churned', 'Churned'],\n",
    "                      title='Confusion matrix')\n",
    "plt.savefig(\"conf_matrix.png\")\n",
    "plt.show()"
   ]
  },
  {
   "cell_type": "code",
   "execution_count": 284,
   "id": "162c4ca0",
   "metadata": {},
   "outputs": [],
   "source": [
    "from sklearn.neural_network import MLPClassifier"
   ]
  },
  {
   "cell_type": "code",
   "execution_count": 291,
   "id": "52f8dd5e",
   "metadata": {},
   "outputs": [
    {
     "name": "stderr",
     "output_type": "stream",
     "text": [
      "E:\\Anaconda\\lib\\site-packages\\sklearn\\neural_network\\_multilayer_perceptron.py:1109: DataConversionWarning: A column-vector y was passed when a 1d array was expected. Please change the shape of y to (n_samples, ), for example using ravel().\n",
      "  y = column_or_1d(y, warn=True)\n"
     ]
    },
    {
     "data": {
      "text/plain": [
       "MLPClassifier(alpha=1e-05, hidden_layer_sizes=(8, 2), max_iter=10000,\n",
       "              random_state=1, solver='lbfgs')"
      ]
     },
     "execution_count": 291,
     "metadata": {},
     "output_type": "execute_result"
    }
   ],
   "source": [
    "MLP = MLPClassifier(solver='lbfgs', hidden_layer_sizes = (8,2),max_iter=10000, alpha = 1e-5, random_state = 1)\n",
    "MLP.fit(X, Y)\n"
   ]
  },
  {
   "cell_type": "code",
   "execution_count": 286,
   "id": "747911e6",
   "metadata": {},
   "outputs": [],
   "source": [
    "Y_mlpv=MLP.predict(X_valid)"
   ]
  },
  {
   "cell_type": "code",
   "execution_count": 287,
   "id": "31459fcc",
   "metadata": {},
   "outputs": [
    {
     "data": {
      "text/plain": [
       "array([0, 0, 0, ..., 0, 0, 0], dtype=int64)"
      ]
     },
     "execution_count": 287,
     "metadata": {},
     "output_type": "execute_result"
    }
   ],
   "source": [
    "Y_mlpv"
   ]
  },
  {
   "cell_type": "code",
   "execution_count": 288,
   "id": "c03bc141",
   "metadata": {},
   "outputs": [
    {
     "name": "stdout",
     "output_type": "stream",
     "text": [
      "3351\n"
     ]
    }
   ],
   "source": [
    "b=0\n",
    "for a in range (len(Y_mlpv)):\n",
    "    if Y_mlpv[a]==t2[a] :\n",
    "        b+=1\n",
    "print(b)"
   ]
  },
  {
   "cell_type": "code",
   "execution_count": 289,
   "id": "6c5d892e",
   "metadata": {},
   "outputs": [
    {
     "data": {
      "text/plain": [
       "0.9357721306897515"
      ]
     },
     "execution_count": 289,
     "metadata": {},
     "output_type": "execute_result"
    }
   ],
   "source": [
    "r2 = MLP.score(X_valid,Y_valid)\n",
    "r2"
   ]
  },
  {
   "cell_type": "code",
   "execution_count": 290,
   "id": "d2ea95e4",
   "metadata": {},
   "outputs": [
    {
     "data": {
      "text/plain": [
       "0.48341027120600116"
      ]
     },
     "execution_count": 290,
     "metadata": {},
     "output_type": "execute_result"
    }
   ],
   "source": [
    "f1_score(Y_valid, Y_mlpv, average='macro')"
   ]
  },
  {
   "cell_type": "code",
   "execution_count": 270,
   "id": "0b6a545b",
   "metadata": {},
   "outputs": [
    {
     "data": {
      "text/plain": [
       "0.9357721306897515"
      ]
     },
     "execution_count": 270,
     "metadata": {},
     "output_type": "execute_result"
    }
   ],
   "source": [
    "accuracy_score(Y_valid, Y_mlpv)"
   ]
  },
  {
   "cell_type": "code",
   "execution_count": 295,
   "id": "387b14f9",
   "metadata": {},
   "outputs": [],
   "source": [
    "Y_mlp_test=MLP.predict(X_test)"
   ]
  },
  {
   "cell_type": "code",
   "execution_count": 296,
   "id": "ec82d072",
   "metadata": {},
   "outputs": [
    {
     "name": "stdout",
     "output_type": "stream",
     "text": [
      "3540\n"
     ]
    }
   ],
   "source": [
    "b=0\n",
    "for a in range (len(Y_mlp_test)):\n",
    "    if Y_mlp_test[a]==t3[a] :\n",
    "        b+=1\n",
    "print(b)"
   ]
  },
  {
   "cell_type": "code",
   "execution_count": 298,
   "id": "735df6eb",
   "metadata": {},
   "outputs": [
    {
     "data": {
      "text/plain": [
       "0.989103101424979"
      ]
     },
     "execution_count": 298,
     "metadata": {},
     "output_type": "execute_result"
    }
   ],
   "source": [
    "accuracy_score(Y_test, Y_mlp_test)"
   ]
  },
  {
   "cell_type": "code",
   "execution_count": 299,
   "id": "2c415238",
   "metadata": {},
   "outputs": [
    {
     "data": {
      "text/plain": [
       "0.8929246220207936"
      ]
     },
     "execution_count": 299,
     "metadata": {},
     "output_type": "execute_result"
    }
   ],
   "source": [
    "f1_score(Y_test, Y_mlp_test, average='macro')"
   ]
  },
  {
   "cell_type": "code",
   "execution_count": null,
   "id": "bdf15225",
   "metadata": {},
   "outputs": [],
   "source": []
  }
 ],
 "metadata": {
  "kernelspec": {
   "display_name": "Python 3 (ipykernel)",
   "language": "python",
   "name": "python3"
  },
  "language_info": {
   "codemirror_mode": {
    "name": "ipython",
    "version": 3
   },
   "file_extension": ".py",
   "mimetype": "text/x-python",
   "name": "python",
   "nbconvert_exporter": "python",
   "pygments_lexer": "ipython3",
   "version": "3.9.12"
  }
 },
 "nbformat": 4,
 "nbformat_minor": 5
}
